{
 "cells": [
  {
   "cell_type": "code",
   "execution_count": 1,
   "id": "678d4d97",
   "metadata": {},
   "outputs": [],
   "source": [
    "import pandas as pd\n",
    "import numpy as np\n",
    "from sklearn.model_selection import train_test_split\n",
    "from sklearn.preprocessing import MinMaxScaler\n",
    "from sklearn.linear_model import LinearRegression\n",
    "from sklearn.tree import DecisionTreeRegressor\n",
    "from sklearn.neighbors import KNeighborsRegressor\n",
    "from sklearn.dummy import DummyRegressor\n",
    "from sklearn.metrics import mean_absolute_error, mean_squared_error, r2_score\n",
    "\n",
    "# 1. Load the dataset\n",
    "csv_path = 'final_workspace_volumes.csv'  # adjust path as needed\n",
    "df = pd.read_csv(csv_path)\n",
    "\n",
    "# 2. One-Hot Encode the shape columns\n",
    "def one_hot_encode_shape(shape_column):\n",
    "    \"\"\"Converts a string like '[0, 1, 0]' into three separate columns.\"\"\"\n",
    "    return pd.DataFrame(shape_column.apply(eval).to_list(),\n",
    "                        columns=['Cuboid', 'Sphere', 'Cylinder'])\n",
    "\n",
    "# encode Object 1 and Object 2 shapes\n",
    "df_obj1 = one_hot_encode_shape(df['Object 1 Shape (Cuboid, Sphere, Cylinder)'])\n",
    "df_obj2 = one_hot_encode_shape(df['Object 2 Shape (Cuboid, Sphere, Cylinder)'])\n",
    "df = pd.concat([df, df_obj1.add_prefix('Obj1_'), df_obj2.add_prefix('Obj2_')], axis=1)\n",
    "df.drop(columns=['Object 1 Shape (Cuboid, Sphere, Cylinder)',\n",
    "                 'Object 2 Shape (Cuboid, Sphere, Cylinder)'],\n",
    "        inplace=True)\n",
    "\n",
    "# 3. Define features (X) and targets (y)\n",
    "X = df.drop(columns=[\n",
    "    'Remaining Workspace Volume after first grasp',\n",
    "    'Remaining Workspace Volume after both grasps'\n",
    "])\n",
    "y = df[[\n",
    "    'Remaining Workspace Volume after first grasp',\n",
    "    'Remaining Workspace Volume after both grasps'\n",
    "]]\n",
    "\n",
    "# 4. Normalize features\n",
    "scaler = MinMaxScaler()\n",
    "X_scaled = scaler.fit_transform(X)\n",
    "\n",
    "# 5. Train/test split\n",
    "X_train, X_test, y_train, y_test = train_test_split(\n",
    "    X_scaled, y, test_size=0.2, random_state=42\n",
    ")"
   ]
  },
  {
   "cell_type": "code",
   "execution_count": 2,
   "id": "3f135a3f",
   "metadata": {},
   "outputs": [],
   "source": [
    "baseline_constructors = {\n",
    "    'LinearRegression': LinearRegression,\n",
    "    'DecisionTree':    lambda: DecisionTreeRegressor(random_state=42),\n",
    "    'KNeighbors':      KNeighborsRegressor,\n",
    "    'DummyMean':       lambda: DummyRegressor(strategy='mean')\n",
    "}\n",
    "\n",
    "# 7. Train, predict, and evaluate\n",
    "results = []"
   ]
  },
  {
   "cell_type": "code",
   "execution_count": 3,
   "id": "20726c61",
   "metadata": {},
   "outputs": [],
   "source": [
    "\n",
    "\n",
    "\n",
    "for name, Constructor in baseline_constructors.items():\n",
    "    # instantiate two separate models\n",
    "    m1 = Constructor()\n",
    "    m2 = Constructor()\n",
    "    \n",
    "    # fit each on its respective target\n",
    "    m1.fit(X_train, y_train.iloc[:, 0])    # first-grasp volume\n",
    "    m2.fit(X_train, y_train.iloc[:, 1])    # second-grasp volume\n",
    "    \n",
    "    # predict\n",
    "    p1 = m1.predict(X_test)\n",
    "    p2 = m2.predict(X_test)\n",
    "    \n",
    "    # evaluate\n",
    "    mae1 = mean_absolute_error(y_test.iloc[:, 0], p1)\n",
    "    mae2 = mean_absolute_error(y_test.iloc[:, 1], p2)\n",
    "    mse1 = mean_squared_error(y_test.iloc[:, 0], p1)\n",
    "    mse2 = mean_squared_error(y_test.iloc[:, 1], p2)\n",
    "    r2  = r2_score(\n",
    "        y_test,\n",
    "        pd.DataFrame({'first': p1, 'second': p2}),\n",
    "        multioutput='variance_weighted'\n",
    "    )\n",
    "    \n",
    "    results.append({\n",
    "        'Model': name,\n",
    "        'MAE (1st grasp)': mae1,\n",
    "        'MAE (2nd grasp)': mae2,\n",
    "        'MSE (1st grasp)': mse1,\n",
    "        'MSE (2nd grasp)': mse2,\n",
    "        'R² overall':      r2\n",
    "    })\n"
   ]
  },
  {
   "cell_type": "code",
   "execution_count": 4,
   "id": "6cf365ec",
   "metadata": {},
   "outputs": [
    {
     "name": "stdout",
     "output_type": "stream",
     "text": [
      "                  MAE (1st grasp)  MAE (2nd grasp)  MSE (1st grasp)  \\\n",
      "Model                                                                 \n",
      "LinearRegression         0.000008         0.000006     1.253625e-10   \n",
      "DecisionTree             0.000004         0.000001     1.200194e-10   \n",
      "KNeighbors               0.000010         0.000002     1.815659e-10   \n",
      "DummyMean                0.000034         0.000012     2.116145e-09   \n",
      "\n",
      "                  MSE (2nd grasp)  R² overall  \n",
      "Model                                          \n",
      "LinearRegression     7.872129e-11    0.919348  \n",
      "DecisionTree         6.860383e-12    0.949858  \n",
      "KNeighbors           1.690784e-11    0.921565  \n",
      "DummyMean            4.200341e-10   -0.002278  \n"
     ]
    }
   ],
   "source": [
    "results_df = pd.DataFrame(results).set_index('Model')\n",
    "print(results_df)"
   ]
  }
 ],
 "metadata": {
  "kernelspec": {
   "display_name": "Python 3",
   "language": "python",
   "name": "python3"
  },
  "language_info": {
   "codemirror_mode": {
    "name": "ipython",
    "version": 3
   },
   "file_extension": ".py",
   "mimetype": "text/x-python",
   "name": "python",
   "nbconvert_exporter": "python",
   "pygments_lexer": "ipython3",
   "version": "3.11.9"
  }
 },
 "nbformat": 4,
 "nbformat_minor": 5
}
